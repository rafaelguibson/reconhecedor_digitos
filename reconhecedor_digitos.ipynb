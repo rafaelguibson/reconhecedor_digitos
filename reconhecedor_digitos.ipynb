{
 "cells": [
  {
   "metadata": {},
   "cell_type": "markdown",
   "source": [
    "<h3><center>Reconhecedor de Dígitos numéricos</center></h3>\n",
    "<h4>Rede Neural Simples</h4>\n",
    "<li>Projeto de estudo de rede neurais multicamadas (duas).</li>\n",
    "<li>O desafio apresentado está no link do kaggle, que é uma base de dados de arquivos abertos para estudo de Data Science e pesquisas estatisticas</li>\n",
    "<li>A proposta do desafio consiste em implementar uma rede neural que seja capaz de identificar digitos escritos a mão em imagens de resulução de 28X28 pixel que são baixados num formato de array com o labe, valores em tons de cinza que variam de 0 (branco) a 1 (preto) compondo a estrutura da matriz que forma a imagem.\n",
    "<br/><br/>\n",
    "<center><img src=\"utils/images/grey_scale_matrix.png\" style=\"width: 40%; height:40%\"></center>\n",
    "\n"
   ],
   "id": "7e372cb8a0c0058e"
  },
  {
   "metadata": {},
   "cell_type": "markdown",
   "source": "<h4>Import de Bibliotecas utilizadas<h4>",
   "id": "28331f93a786983"
  },
  {
   "metadata": {
    "collapsed": true,
    "ExecuteTime": {
     "end_time": "2024-11-06T19:43:07.831163Z",
     "start_time": "2024-11-06T19:43:06.993965Z"
    }
   },
   "cell_type": "code",
   "source": [
    "import pandas as pd\n",
    "import numpy as np\n",
    "\n",
    "from matplotlib import pyplot as plt"
   ],
   "id": "initial_id",
   "outputs": [],
   "execution_count": 1
  },
  {
   "metadata": {},
   "cell_type": "markdown",
   "source": [
    "<h4>Importação da base de dados dos dados</h4>\n",
    "<li>Fonte dos dados de estudo: <pre>https://www.kaggle.com/c/digit-recognizer/data?select=train.csv </pre>"
   ],
   "id": "2fcb736f5ba9485a"
  },
  {
   "metadata": {
    "ExecuteTime": {
     "end_time": "2024-11-06T19:43:11.833559Z",
     "start_time": "2024-11-06T19:43:09.794454Z"
    }
   },
   "cell_type": "code",
   "source": [
    "treino = pd.read_csv('utils/data/train.csv')\n",
    "teste = pd.read_csv('utils/data/test.csv')"
   ],
   "id": "c30c65d48e3f94e8",
   "outputs": [],
   "execution_count": 2
  },
  {
   "metadata": {},
   "cell_type": "markdown",
   "source": [
    "<h4>Tratamento dos dados</h4>\n",
    "<br/><br/>\n",
    "<center><img src=\"utils/images/matrices_nn.png\" style=\"width: 40%; height:40%\"></center>"
   ],
   "id": "46ee58fb7f12ba9f"
  },
  {
   "metadata": {
    "ExecuteTime": {
     "end_time": "2024-11-06T19:43:14.903661Z",
     "start_time": "2024-11-06T19:43:13.863580Z"
    }
   },
   "cell_type": "code",
   "source": [
    "treino = np.array(treino)\n",
    "teste = np.array(teste)\n",
    "\n",
    "np.random.shuffle(treino)\n",
    "\n",
    "dados_teste = teste.T\n",
    "dados_treino = treino.T\n",
    "\n",
    "Y_treino = dados_treino[0]\n",
    "\n",
    "X_teste = dados_teste[:]\n",
    "X_treino = dados_treino[1:]\n",
    "\n",
    "X_teste = X_teste / 255.\n",
    "X_treino = X_treino / 255.\n",
    "\n",
    "_, c_treino = X_treino.shape\n",
    "_, c_teste = X_teste.shape"
   ],
   "id": "9a970e880a7057fd",
   "outputs": [],
   "execution_count": 3
  },
  {
   "metadata": {},
   "cell_type": "markdown",
   "source": [
    "<h4>Visualização de Imagens do Dataset</h4>\n",
    "<li>Função para mostrar imagens de amostras aleatórias do dataset</li>"
   ],
   "id": "e6bfccc41a681bd4"
  },
  {
   "metadata": {
    "ExecuteTime": {
     "end_time": "2024-11-06T19:43:17.293868Z",
     "start_time": "2024-11-06T19:43:17.290349Z"
    }
   },
   "cell_type": "code",
   "source": [
    "def mostrar_imagens(indice):\n",
    "    imagem = X_teste[:, indice, None]\n",
    "    imagem = imagem.reshape((28, 28)) * 255\n",
    "    plt.gray()\n",
    "    plt.imshow(imagem, interpolation='nearest')\n",
    "    plt.show()"
   ],
   "id": "9b7f27bbf6b47c4c",
   "outputs": [],
   "execution_count": 4
  },
  {
   "metadata": {},
   "cell_type": "markdown",
   "source": [
    "<h4>Inicialização da Rede Neural</h4>\n",
    "<li>Inicia os pesos e vieses aleatoriamente para a camada de entrada e a camada oculta</li>"
   ],
   "id": "3d87c416f6e073c8"
  },
  {
   "metadata": {
    "ExecuteTime": {
     "end_time": "2024-11-06T19:43:21.108801Z",
     "start_time": "2024-11-06T19:43:21.105601Z"
    }
   },
   "cell_type": "code",
   "source": [
    "def montar_rede():\n",
    "    W1 = np.random.rand(10, 784) - 0.5\n",
    "    W2 = np.random.rand(10, 10) - 0.5\n",
    "    b1 = np.random.rand(10, 1) - 0.5\n",
    "    b2 = np.random.rand(10, 1) - 0.5\n",
    "    return W1, W2, b1, b2"
   ],
   "id": "c200c8e5e135ef83",
   "outputs": [],
   "execution_count": 5
  },
  {
   "metadata": {},
   "cell_type": "markdown",
   "source": [
    "<h4>Funções de Ativação</h4>\n",
    "<li>Inicia os pesos e vieses aleatoriamente para a camada de entrada e a camada oculta</li>\n",
    "<li>A função de ativação ajuda a introduzir não-linearidade no modelo, permitindo que ele aprenda padrões complexos nos dados.</h4>"
   ],
   "id": "184130d31e359ba3"
  },
  {
   "metadata": {
    "ExecuteTime": {
     "end_time": "2024-11-06T19:43:24.959048Z",
     "start_time": "2024-11-06T19:43:24.954562Z"
    }
   },
   "cell_type": "code",
   "source": [
    "def ReLU(Z):\n",
    "    return np.maximum(0, Z)\n",
    "\n",
    "\n",
    "def softmax(Z):\n",
    "    e = np.exp(Z)\n",
    "    return e / e.sum(axis=0)"
   ],
   "id": "106d5c5f6a2fed3b",
   "outputs": [],
   "execution_count": 6
  },
  {
   "metadata": {},
   "cell_type": "markdown",
   "source": [
    " <h4>Propagação Feedforward</h4>\n",
    "<li>Propagação da entrada até a saída, retornando os valores calculados nas camada</li>"
   ],
   "id": "4f61f2ddaec24134"
  },
  {
   "metadata": {
    "ExecuteTime": {
     "end_time": "2024-11-06T19:43:30.006715Z",
     "start_time": "2024-11-06T19:43:30.002699Z"
    }
   },
   "cell_type": "code",
   "source": [
    "def forward_prop(W1, W2, b1, b2, X):\n",
    "    Z1 = W1.dot(X) + b1\n",
    "    A1 = ReLU(Z1)\n",
    "    Z2 = W2.dot(A1) + b2\n",
    "    A2 = softmax(Z2)\n",
    "    return Z1, A1, Z2, A2"
   ],
   "id": "1858449157967f2f",
   "outputs": [],
   "execution_count": 7
  },
  {
   "metadata": {},
   "cell_type": "markdown",
   "source": [
    "<h4>Função de previsão e Precisão</h4>\n",
    "<li>A função de previsão recebe como entrada o vetor de saída da rede neural, após a aplicação da função de ativação softmax. Essa saída contém as probabilidades de cada classe.</li>\n",
    "<li> função de precisão calcula a porcentagem de previsões corretas, comparando as previsões feitas pelo modelo com os rótulos corretos.</li>"
   ],
   "id": "ff00c8f4da9565e1"
  },
  {
   "metadata": {
    "ExecuteTime": {
     "end_time": "2024-11-06T19:43:36.237362Z",
     "start_time": "2024-11-06T19:43:36.233359Z"
    }
   },
   "cell_type": "code",
   "source": [
    "# Retorna a posição com a maior probabilidade encontrada pela rede neural\n",
    "def previsao(A2):\n",
    "    return np.argmax(A2, axis=0)\n",
    "\n",
    "\n",
    "# Calcula o percentual de acerto da rede neural\n",
    "def precisao(previsao, Y):\n",
    "    return np.sum(previsao == Y) / Y.size"
   ],
   "id": "66d7507ec11c3c84",
   "outputs": [],
   "execution_count": 8
  },
  {
   "metadata": {},
   "cell_type": "markdown",
   "source": [
    "<h4>Ajuste Aleatório dos Pesos</h4>\n",
    "<li>Teste com inicialização aleatória dos pesos para identificar os melhores valores iniciais</li>"
   ],
   "id": "ce9c7401d85f532d"
  },
  {
   "metadata": {
    "ExecuteTime": {
     "end_time": "2024-11-06T19:45:01.434124Z",
     "start_time": "2024-11-06T19:44:41.141799Z"
    }
   },
   "cell_type": "code",
   "source": [
    "def randomizar(X, Y, alpha, iteracoes):\n",
    "    melhor_p = 0\n",
    "    melhor_W1 = 0\n",
    "    melhor_W2 = 0\n",
    "    melhor_b1 = 0\n",
    "    melhor_b2 = 0\n",
    "    W1, W2, b1, b2 = montar_rede()\n",
    "    for i in range(iteracoes):\n",
    "        Z1, A1, Z2, A2 = forward_prop(W1, W2, b1, b2, X)\n",
    "        previsoes = previsao(A2)\n",
    "        p = precisao(previsoes, Y)\n",
    "        if p > melhor_p:\n",
    "            melhor_p = p\n",
    "            melhor_W1 = W1\n",
    "            melhor_W2 = W2\n",
    "            melhor_b1 = b1\n",
    "            melhor_b2 = b2\n",
    "        W1, W2, b1, b2 = montar_rede()\n",
    "        if i % 100 == 0:\n",
    "            print(\"Iteração:\", i)\n",
    "            print(\"Precisão:\", str(round(melhor_p * 100, 2)) + \"%\")\n",
    "    return melhor_W1, melhor_W2, melhor_b1, melhor_b2\n",
    "\n",
    "\n",
    "W1, W2, b1, b2 = randomizar(X_treino, Y_treino, 0.1, 1000)"
   ],
   "id": "bf5edf575c1c3226",
   "outputs": [
    {
     "name": "stdout",
     "output_type": "stream",
     "text": [
      "Iteração: 0\n",
      "Precisão: 15.3%\n",
      "Iteração: 100\n",
      "Precisão: 16.81%\n",
      "Iteração: 200\n",
      "Precisão: 16.81%\n",
      "Iteração: 300\n",
      "Precisão: 16.81%\n",
      "Iteração: 400\n",
      "Precisão: 18.39%\n",
      "Iteração: 500\n",
      "Precisão: 18.97%\n",
      "Iteração: 600\n",
      "Precisão: 18.97%\n",
      "Iteração: 700\n",
      "Precisão: 18.97%\n",
      "Iteração: 800\n",
      "Precisão: 18.97%\n",
      "Iteração: 900\n",
      "Precisão: 18.97%\n"
     ]
    }
   ],
   "execution_count": 10
  },
  {
   "metadata": {},
   "cell_type": "markdown",
   "source": [
    "<h4>Função Resposta</h4>\n",
    "<li>É um array de \"booleanos\" que armazena as posições corretas com 1 e incorretas com 0.</li>"
   ],
   "id": "e565f4bdd24f2bdc"
  },
  {
   "metadata": {
    "ExecuteTime": {
     "end_time": "2024-11-06T19:53:09.175135Z",
     "start_time": "2024-11-06T19:53:09.171979Z"
    }
   },
   "cell_type": "code",
   "source": [
    "def respostas(Y):\n",
    "    resp = np.zeros((Y.size, Y.max() + 1))\n",
    "    resp[np.arange(Y.size), Y] = 1\n",
    "    resp = resp.T\n",
    "    return resp"
   ],
   "id": "4d04da76acc0b8b7",
   "outputs": [],
   "execution_count": 13
  },
  {
   "metadata": {
    "ExecuteTime": {
     "end_time": "2024-11-06T19:53:07.777717Z",
     "start_time": "2024-11-06T19:53:07.772718Z"
    }
   },
   "cell_type": "code",
   "source": [
    "def ReLU_deriv(Z):\n",
    "    return Z > 0"
   ],
   "id": "ce1d398f05212288",
   "outputs": [],
   "execution_count": 12
  },
  {
   "metadata": {},
   "cell_type": "markdown",
   "source": "<h4>Back Propagation<h4>",
   "id": "f5a51874d274ec35"
  },
  {
   "metadata": {
    "ExecuteTime": {
     "end_time": "2024-11-06T19:59:00.420853Z",
     "start_time": "2024-11-06T19:59:00.416820Z"
    }
   },
   "cell_type": "code",
   "source": [
    "def back_prop(Z1, A1, Z2, A2, W2, X, Y):\n",
    "    resp_Y = respostas(Y)\n",
    "    dZ2 = A2 - resp_Y\n",
    "    dW2 = 1 / c_treino * dZ2.dot(A1.T)\n",
    "    db2 = 1 / c_treino * np.sum(dZ2)\n",
    "    dZ1 = W2.T.dot(dZ2) * ReLU_deriv(Z1)\n",
    "    dW1 = 1 / c_treino * dZ1.dot(X.T)\n",
    "    db1 = 1 / c_treino * np.sum(dZ1)\n",
    "    return db2, db1, dW1, dW2"
   ],
   "id": "d3af868600dabada",
   "outputs": [],
   "execution_count": 15
  },
  {
   "metadata": {},
   "cell_type": "markdown",
   "source": [
    "<h4>Atualização dos pesos</h4>\n",
    "<li>Atualização dos pesos atraves do gradiente descendente.</li>"
   ],
   "id": "284edcdc044146ca"
  },
  {
   "metadata": {
    "ExecuteTime": {
     "end_time": "2024-11-06T19:58:58.035094Z",
     "start_time": "2024-11-06T19:58:58.032075Z"
    }
   },
   "cell_type": "code",
   "source": [
    "def atualiza_pesos(W1, W2, b1, b2, dW1, dW2, db1, db2, alpha):\n",
    "    W1 = W1 - alpha * dW1\n",
    "    W2 = W2 - alpha * dW2\n",
    "    b1 = b1 - alpha * db1\n",
    "    b2 = b2 - alpha * db2\n",
    "    return W1, W2, b1, b2"
   ],
   "id": "75b02e03b5f6735d",
   "outputs": [],
   "execution_count": 14
  },
  {
   "metadata": {},
   "cell_type": "markdown",
   "source": [
    "<h4>Gradiente Descendente</h4>\n",
    "<br/><br/>\n",
    "<center><img src=\"utils/images/gadrient_descendent.png\" style=\"width: 50%; height:50%\"></center>"
   ],
   "id": "4755d4867bf7a839"
  },
  {
   "metadata": {
    "ExecuteTime": {
     "end_time": "2024-11-06T20:04:54.160518Z",
     "start_time": "2024-11-06T20:04:23.004262Z"
    }
   },
   "cell_type": "code",
   "source": [
    "def gradiente(X, Y, alpha, iteracoes):\n",
    "    W1, W2, b1, b2 = montar_rede()\n",
    "    for i in range(iteracoes):\n",
    "        Z1, A1, Z2, A2 = forward_prop(W1, W2, b1, b2, X)\n",
    "        db2, db1, dW1, dW2 = back_prop(Z1, A1, Z2, A2, W2, X, Y)\n",
    "        W1, W2, b1, b2 = atualiza_pesos(W1, W2, b1, b2, dW1, dW2, db1, db2, alpha)\n",
    "        if i % 100 == 0:\n",
    "            print(\"Iterações:\", i)\n",
    "            previsoes = previsao(A2)\n",
    "            print(\"Precisão:\", str(round(precisao(previsoes, Y) * 100, 2)) + \"%\")\n",
    "    return W1, W2, b1, b2\n",
    "\n",
    "\n",
    "W1, W2, b1, b2 = gradiente(X_treino, Y_treino, 0.1, 1000)"
   ],
   "id": "493b3a687aefa8fc",
   "outputs": [
    {
     "name": "stdout",
     "output_type": "stream",
     "text": [
      "Iterações: 0\n",
      "Precisão: 10.47%\n",
      "Iterações: 100\n",
      "Precisão: 62.59%\n",
      "Iterações: 200\n",
      "Precisão: 76.9%\n",
      "Iterações: 300\n",
      "Precisão: 81.04%\n",
      "Iterações: 400\n",
      "Precisão: 83.25%\n",
      "Iterações: 500\n",
      "Precisão: 84.6%\n",
      "Iterações: 600\n",
      "Precisão: 85.4%\n",
      "Iterações: 700\n",
      "Precisão: 86.12%\n",
      "Iterações: 800\n",
      "Precisão: 86.69%\n",
      "Iterações: 900\n",
      "Precisão: 87.19%\n"
     ]
    }
   ],
   "execution_count": 16
  }
 ],
 "metadata": {
  "kernelspec": {
   "display_name": "Python 3",
   "language": "python",
   "name": "python3"
  },
  "language_info": {
   "codemirror_mode": {
    "name": "ipython",
    "version": 2
   },
   "file_extension": ".py",
   "mimetype": "text/x-python",
   "name": "python",
   "nbconvert_exporter": "python",
   "pygments_lexer": "ipython2",
   "version": "2.7.6"
  }
 },
 "nbformat": 4,
 "nbformat_minor": 5
}
