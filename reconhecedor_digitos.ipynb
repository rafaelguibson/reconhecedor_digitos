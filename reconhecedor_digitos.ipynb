{
 "cells": [
  {
   "metadata": {},
   "cell_type": "markdown",
   "source": [
    "<h3><center>Reconhecedor de Dígitos numéricos</center></h3>\n",
    "<h4>Rede Neural Simples</h4>\n",
    "<li>Projeto de estudo de rede neurais multicamadas (duas).</li>\n",
    "<li>O desafio apresentado está no link do kaggle, que é uma base de dados de arquivos abertos para estudo de Data Science e pesquisas estatisticas</li>\n",
    "<li>A proposta do desafio consiste em implementar uma rede neural que seja capaz de identificar digitos escritos a mão em imagens de resulução de 28X28 pixel que são baixados num formato de array com o labe, valores em tons de cinza que variam de 0 (branco) a 1 (preto) compondo a estrutura da matriz que forma a imagem.\n",
    "<br/><br/>\n",
    "<center><img src=\"utils/images/grey_scale_matrix.png\"></center>\n",
    "\n"
   ],
   "id": "7e372cb8a0c0058e"
  },
  {
   "metadata": {},
   "cell_type": "markdown",
   "source": "<h4>Import de Bibliotecas utilizadas<h4>",
   "id": "28331f93a786983"
  },
  {
   "metadata": {
    "collapsed": true,
    "ExecuteTime": {
     "end_time": "2024-11-06T18:21:13.714815Z",
     "start_time": "2024-11-06T18:21:12.994043Z"
    }
   },
   "cell_type": "code",
   "source": [
    "import pandas as pd\n",
    "import numpy as np\n",
    "\n",
    "from matplotlib import pyplot as plt"
   ],
   "id": "initial_id",
   "outputs": [],
   "execution_count": 1
  },
  {
   "metadata": {},
   "cell_type": "markdown",
   "source": [
    "<h4>Importação da base de dados dos dados</h4>\n",
    "<li>Fonte dos dados de estudo: <pre>https://www.kaggle.com/c/digit-recognizer/data?select=train.csv </pre>"
   ],
   "id": "2fcb736f5ba9485a"
  },
  {
   "metadata": {
    "ExecuteTime": {
     "end_time": "2024-11-06T18:31:32.084262Z",
     "start_time": "2024-11-06T18:31:30.326111Z"
    }
   },
   "cell_type": "code",
   "source": [
    "treino = pd.read_csv('utils/data/train.csv')\n",
    "teste = pd.read_csv('utils/data/test.csv')"
   ],
   "id": "c30c65d48e3f94e8",
   "outputs": [],
   "execution_count": 2
  },
  {
   "metadata": {},
   "cell_type": "markdown",
   "source": "<h4>Tratamento dos dados</h4>",
   "id": "46ee58fb7f12ba9f"
  },
  {
   "metadata": {
    "ExecuteTime": {
     "end_time": "2024-11-06T18:45:24.155889Z",
     "start_time": "2024-11-06T18:45:23.084710Z"
    }
   },
   "cell_type": "code",
   "source": [
    "# Convertendo os dados de treino e teste para arrays NumPy\n",
    "# Isso permite manipular os dados de forma mais eficiente com as operações NumPy\n",
    "treino = np.array(treino)\n",
    "teste = np.array(teste)\n",
    "\n",
    "# Embaralha as amostras de treino para garantir que a rede neural aprenda de uma maneira \n",
    "# mais generalizada e não memoriza a sequência de dados\n",
    "np.random.shuffle(treino)\n",
    "\n",
    "\n",
    "# Transpõe as matrizes de dados de treino e teste para facilitar a separação de \n",
    "# características (X) e rótulos (Y)\n",
    "dados_teste = teste.T\n",
    "dados_treino = treino.T\n",
    "\n",
    "# A primeira linha dos dados de treino corresponde aos rótulos (Y), que representam \n",
    "# os valores de saída esperados\n",
    "Y_treino = dados_treino[0]\n",
    "\n",
    "# Todas as demais linhas dos dados de teste e treino correspondem às características (X),\n",
    "# ou seja, os valores de entrada que serão usados como base para o modelo prever o Y correspondente.\n",
    "X_teste = dados_teste[:]\n",
    "X_treino = dados_treino[1:]\n",
    "\n",
    "\n",
    "# Normalização dos dados\n",
    "# Divide cada valor por 255 para normalizar os valores dos pixels das imagens entre 0 e 1.\n",
    "# Isso ajuda a reduzir o impacto de diferenças na escala dos valores, o que melhora a performance\n",
    "# do modelo de rede neural durante o treinamento e a previsão.\n",
    "X_teste = X_teste / 255.\n",
    "X_treino = X_treino / 255.\n",
    "\n",
    "# Armazena o número de colunas (amostras) para treino e teste, respectivamente\n",
    "_, c_treino = X_treino.shape\n",
    "_, c_teste = X_teste.shape"
   ],
   "id": "9a970e880a7057fd",
   "outputs": [],
   "execution_count": 4
  },
  {
   "metadata": {},
   "cell_type": "markdown",
   "source": [
    "<h4>Visualização de Imagens do Dataset</h4>\n",
    "<li>Função para mostrar imagens de amostras aleatórias do dataset</li>"
   ],
   "id": "e6bfccc41a681bd4"
  },
  {
   "metadata": {
    "ExecuteTime": {
     "end_time": "2024-11-06T18:46:42.126308Z",
     "start_time": "2024-11-06T18:46:42.122652Z"
    }
   },
   "cell_type": "code",
   "source": [
    "def mostrar_imagens(indice):\n",
    "    imagem = X_teste[:, indice, None]\n",
    "    imagem = imagem.reshape((28, 28)) * 255\n",
    "    plt.gray()\n",
    "    plt.imshow(imagem, interpolation='nearest')\n",
    "    plt.show()"
   ],
   "id": "9b7f27bbf6b47c4c",
   "outputs": [],
   "execution_count": 5
  },
  {
   "metadata": {},
   "cell_type": "markdown",
   "source": [
    "<h4>Inicialização da Rede Neural</h4>\n",
    "<li>Inicia os pesos e vieses aleatoriamente para a camada de entrada e a camada oculta</li>"
   ],
   "id": "3d87c416f6e073c8"
  },
  {
   "metadata": {
    "ExecuteTime": {
     "end_time": "2024-11-06T18:49:57.706862Z",
     "start_time": "2024-11-06T18:49:57.700829Z"
    }
   },
   "cell_type": "code",
   "source": [
    "def montar_rede():\n",
    "    W1 = np.random.rand(10, 784) - 0.5\n",
    "    W2 = np.random.rand(10, 10) - 0.5\n",
    "    b1 = np.random.rand(10, 1) - 0.5\n",
    "    b2 = np.random.rand(10, 1) - 0.5\n",
    "    return W1, W2, b1, b2"
   ],
   "id": "c200c8e5e135ef83",
   "outputs": [],
   "execution_count": 6
  },
  {
   "metadata": {},
   "cell_type": "markdown",
   "source": [
    "<h4>Funções de Ativação</h4>\n",
    "<li>Inicia os pesos e vieses aleatoriamente para a camada de entrada e a camada oculta</li>\n",
    "<li>A função de ativação ajuda a introduzir não-linearidade no modelo, permitindo que ele aprenda padrões complexos nos dados.</h4>"
   ],
   "id": "184130d31e359ba3"
  },
  {
   "metadata": {},
   "cell_type": "code",
   "outputs": [],
   "execution_count": null,
   "source": [
    "# ReLU (Rectified Linear Unit)\n",
    "def ReLU(Z):\n",
    "    # A função ReLU retorna o valor de entrada (Z) se for positivo,\n",
    "    # ou zero se for negativo. Essa função é muito usada em redes neurais,\n",
    "    # especialmente em camadas intermediárias, pois ajuda a resolver problemas\n",
    "    # como o desaparecimento do gradiente durante o treinamento.\n",
    "    # Em termos práticos, ela \"ativa\" apenas os neurônios que contribuem\n",
    "    # positivamente para a saída, mantendo zero para valores negativos.\n",
    "    return np.maximum(0, Z)\n",
    "\n",
    "# Softmax\n",
    "def softmax(Z):\n",
    "    # A função softmax é usada na camada de saída da rede neural para converter\n",
    "    # os valores de saída (logits) em uma distribuição de probabilidade.\n",
    "    # Cada valor de entrada é transformado para estar entre 0 e 1, e a soma\n",
    "    # de todos os valores da saída será igual a 1, formando uma distribuição\n",
    "    # de probabilidade entre as classes.\n",
    "    \n",
    "    # Calcula a exponencial de cada valor de entrada, criando a base para a\n",
    "    # distribuição de probabilidades. Isso ajuda a destacar valores maiores,\n",
    "    # aumentando sua probabilidade relativa.\n",
    "    e = np.exp(Z)\n",
    "    \n",
    "    # Divide cada valor pela soma de todas as exponenciais, garantindo que\n",
    "    # a soma dos valores da saída seja 1 (uma probabilidade).\n",
    "    return e / e.sum(axis=0)"
   ],
   "id": "106d5c5f6a2fed3b"
  },
  {
   "metadata": {},
   "cell_type": "markdown",
   "source": [
    "<h4>Propagação Feedforward</h4>\n",
    "<li>Propagação da entrada até a saída, retornando os valores calculados nas camada</li>"
   ],
   "id": "4f61f2ddaec24134"
  }
 ],
 "metadata": {
  "kernelspec": {
   "display_name": "Python 3",
   "language": "python",
   "name": "python3"
  },
  "language_info": {
   "codemirror_mode": {
    "name": "ipython",
    "version": 2
   },
   "file_extension": ".py",
   "mimetype": "text/x-python",
   "name": "python",
   "nbconvert_exporter": "python",
   "pygments_lexer": "ipython2",
   "version": "2.7.6"
  }
 },
 "nbformat": 4,
 "nbformat_minor": 5
}
