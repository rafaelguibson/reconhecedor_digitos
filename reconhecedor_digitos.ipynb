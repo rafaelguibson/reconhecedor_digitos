{
 "cells": [
  {
   "metadata": {},
   "cell_type": "markdown",
   "source": [
    "<h3><center>Reconhecedor de Dígitos numéricos</center></h3>\n",
    "<h4>Rede Neural Simples</h4>\n",
    "<li>Projeto de estudo de rede neurais multicamadas (duas).</li>\n",
    "<li>O desafio apresentado está no link do kaggle, que é uma base de dados de arquivos abertos para estudo de Data Science e pesquisas estatisticas</li>\n",
    "<li>A proposta do desafio consiste em implementar uma rede neural que seja capaz de identificar digitos escritos a mão em imagens de resulução de 28X28 pixel que são baixados num formato de array com o labe, valores em tons de cinza que variam de 0 (branco) a 1 (preto) compondo a estrutura da matriz que forma a imagem.\n",
    "<br/><br/>\n",
    "<center><img src=\"utils/images/grey_scale_matrix.png\"></center>\n",
    "\n"
   ],
   "id": "7e372cb8a0c0058e"
  },
  {
   "metadata": {},
   "cell_type": "markdown",
   "source": "<h4>Import de Bibliotecas utilizadas<h4>",
   "id": "28331f93a786983"
  },
  {
   "metadata": {
    "collapsed": true,
    "ExecuteTime": {
     "end_time": "2024-11-06T18:21:13.714815Z",
     "start_time": "2024-11-06T18:21:12.994043Z"
    }
   },
   "cell_type": "code",
   "source": [
    "import pandas as pd\n",
    "import numpy as np\n",
    "\n",
    "from matplotlib import pyplot as plt"
   ],
   "id": "initial_id",
   "outputs": [],
   "execution_count": 1
  },
  {
   "metadata": {},
   "cell_type": "markdown",
   "source": [
    "<h4>Importação da base de dados dos dados</h4>\n",
    "<li>Fonte dos dados de estudo: <pre>https://www.kaggle.com/c/digit-recognizer/data?select=train.csv </pre>"
   ],
   "id": "2fcb736f5ba9485a"
  },
  {
   "metadata": {
    "ExecuteTime": {
     "end_time": "2024-11-06T18:31:32.084262Z",
     "start_time": "2024-11-06T18:31:30.326111Z"
    }
   },
   "cell_type": "code",
   "source": [
    "treino = pd.read_csv('utils/data/train.csv')\n",
    "teste = pd.read_csv('utils/data/test.csv')"
   ],
   "id": "c30c65d48e3f94e8",
   "outputs": [],
   "execution_count": 2
  },
  {
   "metadata": {},
   "cell_type": "markdown",
   "source": "<h4>Tratamento dos dados</h4>",
   "id": "46ee58fb7f12ba9f"
  },
  {
   "metadata": {
    "ExecuteTime": {
     "end_time": "2024-11-06T18:31:41.816827Z",
     "start_time": "2024-11-06T18:31:40.794718Z"
    }
   },
   "cell_type": "code",
   "source": [
    "# Tratamento dos dados\n",
    "treino = np.array(treino)\n",
    "teste = np.array(teste)\n",
    "\n",
    "np.random.shuffle(treino)\n",
    "\n",
    "dados_teste = teste.T\n",
    "dados_treino = treino.T\n",
    "\n",
    "Y_treino = dados_treino[0]\n",
    "\n",
    "X_teste = dados_teste[:]\n",
    "X_treino = dados_treino[1:]\n",
    "\n",
    "X_teste = X_teste / 255.\n",
    "X_treino = X_treino / 255.\n",
    "\n",
    "_, c_treino = X_treino.shape\n",
    "_, c_teste = X_teste.shape"
   ],
   "id": "9a970e880a7057fd",
   "outputs": [],
   "execution_count": 3
  }
 ],
 "metadata": {
  "kernelspec": {
   "display_name": "Python 3",
   "language": "python",
   "name": "python3"
  },
  "language_info": {
   "codemirror_mode": {
    "name": "ipython",
    "version": 2
   },
   "file_extension": ".py",
   "mimetype": "text/x-python",
   "name": "python",
   "nbconvert_exporter": "python",
   "pygments_lexer": "ipython2",
   "version": "2.7.6"
  }
 },
 "nbformat": 4,
 "nbformat_minor": 5
}
